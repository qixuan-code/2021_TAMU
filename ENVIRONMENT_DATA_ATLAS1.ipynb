{
  "nbformat": 4,
  "nbformat_minor": 0,
  "metadata": {
    "colab": {
      "name": "ENVIRONMENT_DATA_ATLAS.ipynb",
      "provenance": [],
      "collapsed_sections": [],
      "include_colab_link": true
    },
    "kernelspec": {
      "name": "python3",
      "display_name": "Python 3"
    },
    "language_info": {
      "name": "python"
    }
  },
  "cells": [
    {
      "cell_type": "markdown",
      "metadata": {
        "id": "view-in-github",
        "colab_type": "text"
      },
      "source": [
        "<a href=\"https://colab.research.google.com/github/qixuan-code/2021_TAMU/blob/main/ENVIRONMENT_DATA_ATLAS1.ipynb\" target=\"_parent\"><img src=\"https://colab.research.google.com/assets/colab-badge.svg\" alt=\"Open In Colab\"/></a>"
      ]
    },
    {
      "cell_type": "code",
      "metadata": {
        "id": "lMEomwrNAoYa"
      },
      "source": [
        "import pandas as pd\n",
        "import os\n",
        "import matplotlib.pyplot as plt\n",
        "import seaborn as sns\n",
        "import numpy as np\n",
        "%matplotlib inline\n",
        "import warnings\n",
        "from collections import Counter\n",
        "warnings.filterwarnings('ignore')\n",
        "from sklearn import metrics"
      ],
      "execution_count": 2,
      "outputs": []
    },
    {
      "cell_type": "code",
      "metadata": {
        "id": "G4lxYiqpI3SP"
      },
      "source": [
        "df = pd.read_csv('https://raw.githubusercontent.com/zhujunqing1996/2021-TAMU-datathon/main/DATASET_atlas_top20%20countries.csv')"
      ],
      "execution_count": 3,
      "outputs": []
    },
    {
      "cell_type": "markdown",
      "metadata": {
        "id": "jpZPKgBdFWAE"
      },
      "source": [
        "# only use the data from US"
      ]
    },
    {
      "cell_type": "code",
      "metadata": {
        "colab": {
          "base_uri": "https://localhost:8080/",
          "height": 607
        },
        "id": "TXmY0VC1JVSJ",
        "outputId": "2fcdff42-a104-440f-9396-48a2253ae2fc"
      },
      "source": [
        "df = df[df['Country ISO Code'] == 'US']\n",
        "df.head()"
      ],
      "execution_count": 4,
      "outputs": [
        {
          "output_type": "execute_result",
          "data": {
            "text/html": [
              "<div>\n",
              "<style scoped>\n",
              "    .dataframe tbody tr th:only-of-type {\n",
              "        vertical-align: middle;\n",
              "    }\n",
              "\n",
              "    .dataframe tbody tr th {\n",
              "        vertical-align: top;\n",
              "    }\n",
              "\n",
              "    .dataframe thead th {\n",
              "        text-align: right;\n",
              "    }\n",
              "</style>\n",
              "<table border=\"1\" class=\"dataframe\">\n",
              "  <thead>\n",
              "    <tr style=\"text-align: right;\">\n",
              "      <th></th>\n",
              "      <th>Dataset</th>\n",
              "      <th>Path</th>\n",
              "      <th>Country</th>\n",
              "      <th>Country ISO Code</th>\n",
              "      <th>Topic</th>\n",
              "      <th>Subtopic</th>\n",
              "      <th>Indicator</th>\n",
              "      <th>Description</th>\n",
              "      <th>Source</th>\n",
              "      <th>Uri</th>\n",
              "      <th>Year</th>\n",
              "      <th>Month</th>\n",
              "      <th>Unit</th>\n",
              "      <th>Date</th>\n",
              "      <th>Value</th>\n",
              "    </tr>\n",
              "  </thead>\n",
              "  <tbody>\n",
              "    <tr>\n",
              "      <th>900</th>\n",
              "      <td>EDGARED2019</td>\n",
              "      <td>location=US;indicator=KN.F1;type=All;Frequency=A</td>\n",
              "      <td>United States of America</td>\n",
              "      <td>US</td>\n",
              "      <td>Environment</td>\n",
              "      <td>NaN</td>\n",
              "      <td>CO2 emissions</td>\n",
              "      <td>Carbon dioxide emissions are those stemming fr...</td>\n",
              "      <td>EDGAR</td>\n",
              "      <td>https://knoema.com/atlas/United-States-of-Amer...</td>\n",
              "      <td>1970</td>\n",
              "      <td>1</td>\n",
              "      <td>Mton CO2</td>\n",
              "      <td>1970-01-01</td>\n",
              "      <td>4685.42942</td>\n",
              "    </tr>\n",
              "    <tr>\n",
              "      <th>901</th>\n",
              "      <td>EDGARED2019</td>\n",
              "      <td>location=US;indicator=KN.F1;type=All;Frequency=A</td>\n",
              "      <td>United States of America</td>\n",
              "      <td>US</td>\n",
              "      <td>Environment</td>\n",
              "      <td>NaN</td>\n",
              "      <td>CO2 emissions</td>\n",
              "      <td>Carbon dioxide emissions are those stemming fr...</td>\n",
              "      <td>EDGAR</td>\n",
              "      <td>https://knoema.com/atlas/United-States-of-Amer...</td>\n",
              "      <td>1971</td>\n",
              "      <td>1</td>\n",
              "      <td>Mton CO2</td>\n",
              "      <td>1971-01-01</td>\n",
              "      <td>4550.80871</td>\n",
              "    </tr>\n",
              "    <tr>\n",
              "      <th>902</th>\n",
              "      <td>EDGARED2019</td>\n",
              "      <td>location=US;indicator=KN.F1;type=All;Frequency=A</td>\n",
              "      <td>United States of America</td>\n",
              "      <td>US</td>\n",
              "      <td>Environment</td>\n",
              "      <td>NaN</td>\n",
              "      <td>CO2 emissions</td>\n",
              "      <td>Carbon dioxide emissions are those stemming fr...</td>\n",
              "      <td>EDGAR</td>\n",
              "      <td>https://knoema.com/atlas/United-States-of-Amer...</td>\n",
              "      <td>1972</td>\n",
              "      <td>1</td>\n",
              "      <td>Mton CO2</td>\n",
              "      <td>1972-01-01</td>\n",
              "      <td>4799.58289</td>\n",
              "    </tr>\n",
              "    <tr>\n",
              "      <th>903</th>\n",
              "      <td>EDGARED2019</td>\n",
              "      <td>location=US;indicator=KN.F1;type=All;Frequency=A</td>\n",
              "      <td>United States of America</td>\n",
              "      <td>US</td>\n",
              "      <td>Environment</td>\n",
              "      <td>NaN</td>\n",
              "      <td>CO2 emissions</td>\n",
              "      <td>Carbon dioxide emissions are those stemming fr...</td>\n",
              "      <td>EDGAR</td>\n",
              "      <td>https://knoema.com/atlas/United-States-of-Amer...</td>\n",
              "      <td>1973</td>\n",
              "      <td>1</td>\n",
              "      <td>Mton CO2</td>\n",
              "      <td>1973-01-01</td>\n",
              "      <td>4987.24848</td>\n",
              "    </tr>\n",
              "    <tr>\n",
              "      <th>904</th>\n",
              "      <td>EDGARED2019</td>\n",
              "      <td>location=US;indicator=KN.F1;type=All;Frequency=A</td>\n",
              "      <td>United States of America</td>\n",
              "      <td>US</td>\n",
              "      <td>Environment</td>\n",
              "      <td>NaN</td>\n",
              "      <td>CO2 emissions</td>\n",
              "      <td>Carbon dioxide emissions are those stemming fr...</td>\n",
              "      <td>EDGAR</td>\n",
              "      <td>https://knoema.com/atlas/United-States-of-Amer...</td>\n",
              "      <td>1974</td>\n",
              "      <td>1</td>\n",
              "      <td>Mton CO2</td>\n",
              "      <td>1974-01-01</td>\n",
              "      <td>4822.62093</td>\n",
              "    </tr>\n",
              "  </tbody>\n",
              "</table>\n",
              "</div>"
            ],
            "text/plain": [
              "         Dataset  ...       Value\n",
              "900  EDGARED2019  ...  4685.42942\n",
              "901  EDGARED2019  ...  4550.80871\n",
              "902  EDGARED2019  ...  4799.58289\n",
              "903  EDGARED2019  ...  4987.24848\n",
              "904  EDGARED2019  ...  4822.62093\n",
              "\n",
              "[5 rows x 15 columns]"
            ]
          },
          "metadata": {},
          "execution_count": 4
        }
      ]
    },
    {
      "cell_type": "code",
      "metadata": {
        "colab": {
          "base_uri": "https://localhost:8080/",
          "height": 241
        },
        "id": "DIZfnxFiJnzr",
        "outputId": "6fc63ead-eb72-4eab-9953-331c08155a8f"
      },
      "source": [
        "# No 1: WB mt CO2 from gas solid liquid fuel\n",
        "Indicator1 = ['CO2 emissions from gaseous fuel consumption', 'CO2 emissions from liquid fuel consumption', 'CO2 emissions from solid fuel consumption']\n",
        "df_filter1 = df[(df['Dataset'] == 'WBWDI2019Jan') & (df['Year'] >= 1970) & (df['Indicator'].isin(Indicator1))]\n",
        "print('The unit of the values are: {}, and needs to be changed into Mt.'.format(df_filter1['Unit'].unique()[0]))\n",
        "df_1 = pd.crosstab(df_filter1.Year, df_filter1.Indicator, values = df_filter1.Value/1000, aggfunc = 'sum')\n",
        "df_1['Total CO2 (Mt) from WBWDI2019Jan'] = df_1.sum(axis = 1)\n",
        "df_1.reset_index(inplace = True)\n",
        "df_1.head()"
      ],
      "execution_count": 5,
      "outputs": [
        {
          "output_type": "stream",
          "name": "stdout",
          "text": [
            "The unit of the values are: kt, and needs to be changed into Mt.\n"
          ]
        },
        {
          "output_type": "execute_result",
          "data": {
            "text/html": [
              "<div>\n",
              "<style scoped>\n",
              "    .dataframe tbody tr th:only-of-type {\n",
              "        vertical-align: middle;\n",
              "    }\n",
              "\n",
              "    .dataframe tbody tr th {\n",
              "        vertical-align: top;\n",
              "    }\n",
              "\n",
              "    .dataframe thead th {\n",
              "        text-align: right;\n",
              "    }\n",
              "</style>\n",
              "<table border=\"1\" class=\"dataframe\">\n",
              "  <thead>\n",
              "    <tr style=\"text-align: right;\">\n",
              "      <th>Indicator</th>\n",
              "      <th>Year</th>\n",
              "      <th>CO2 emissions from gaseous fuel consumption</th>\n",
              "      <th>CO2 emissions from liquid fuel consumption</th>\n",
              "      <th>CO2 emissions from solid fuel consumption</th>\n",
              "      <th>Total CO2 (Mt) from WBWDI2019Jan</th>\n",
              "    </tr>\n",
              "  </thead>\n",
              "  <tbody>\n",
              "    <tr>\n",
              "      <th>0</th>\n",
              "      <td>1970</td>\n",
              "      <td>1060.078362</td>\n",
              "      <td>2039.750415</td>\n",
              "      <td>1169.046934</td>\n",
              "      <td>4268.875711</td>\n",
              "    </tr>\n",
              "    <tr>\n",
              "      <th>1</th>\n",
              "      <td>1971</td>\n",
              "      <td>1097.826460</td>\n",
              "      <td>2099.023803</td>\n",
              "      <td>1108.314080</td>\n",
              "      <td>4305.164343</td>\n",
              "    </tr>\n",
              "    <tr>\n",
              "      <th>2</th>\n",
              "      <td>1972</td>\n",
              "      <td>1116.586832</td>\n",
              "      <td>2271.031772</td>\n",
              "      <td>1125.761666</td>\n",
              "      <td>4513.380270</td>\n",
              "    </tr>\n",
              "    <tr>\n",
              "      <th>3</th>\n",
              "      <td>1973</td>\n",
              "      <td>1104.383056</td>\n",
              "      <td>2401.448627</td>\n",
              "      <td>1211.543797</td>\n",
              "      <td>4717.375480</td>\n",
              "    </tr>\n",
              "    <tr>\n",
              "      <th>4</th>\n",
              "      <td>1974</td>\n",
              "      <td>1053.030388</td>\n",
              "      <td>2301.790568</td>\n",
              "      <td>1197.260832</td>\n",
              "      <td>4552.081788</td>\n",
              "    </tr>\n",
              "  </tbody>\n",
              "</table>\n",
              "</div>"
            ],
            "text/plain": [
              "Indicator  Year  ...  Total CO2 (Mt) from WBWDI2019Jan\n",
              "0          1970  ...                       4268.875711\n",
              "1          1971  ...                       4305.164343\n",
              "2          1972  ...                       4513.380270\n",
              "3          1973  ...                       4717.375480\n",
              "4          1974  ...                       4552.081788\n",
              "\n",
              "[5 rows x 5 columns]"
            ]
          },
          "metadata": {},
          "execution_count": 5
        }
      ]
    },
    {
      "cell_type": "code",
      "metadata": {
        "colab": {
          "base_uri": "https://localhost:8080/",
          "height": 223
        },
        "id": "eFScDpVAe3WD",
        "outputId": "e0b0cd0e-35a3-448b-caa0-08c0ead52837"
      },
      "source": [
        "# No 2: EDG mt CO2\n",
        "Indicator2 = ['CO2 emissions']\n",
        "df_filter2 = df[(df['Dataset'] == 'EDGARED2019') & (df['Year'] >= 1970) & (df['Indicator'].isin(Indicator2))]\n",
        "print('The unit of the values are: {}, and needs to be changed into Mt of CO2.'.format(df_filter2['Unit'].unique()[0]))\n",
        "df_2 = pd.crosstab(df_filter2.Year, df_filter2.Indicator, values = df_filter2.Value, aggfunc = 'sum')\n",
        "df_2['Total CO2 (Mt) from EDGARED2019'] = df_2.sum(axis = 1)\n",
        "df_2.reset_index(inplace = True)\n",
        "df_2.head()"
      ],
      "execution_count": 6,
      "outputs": [
        {
          "output_type": "stream",
          "name": "stdout",
          "text": [
            "The unit of the values are: Mton CO2, and needs to be changed into Mt of CO2.\n"
          ]
        },
        {
          "output_type": "execute_result",
          "data": {
            "text/html": [
              "<div>\n",
              "<style scoped>\n",
              "    .dataframe tbody tr th:only-of-type {\n",
              "        vertical-align: middle;\n",
              "    }\n",
              "\n",
              "    .dataframe tbody tr th {\n",
              "        vertical-align: top;\n",
              "    }\n",
              "\n",
              "    .dataframe thead th {\n",
              "        text-align: right;\n",
              "    }\n",
              "</style>\n",
              "<table border=\"1\" class=\"dataframe\">\n",
              "  <thead>\n",
              "    <tr style=\"text-align: right;\">\n",
              "      <th>Indicator</th>\n",
              "      <th>Year</th>\n",
              "      <th>CO2 emissions</th>\n",
              "      <th>Total CO2 (Mt) from EDGARED2019</th>\n",
              "    </tr>\n",
              "  </thead>\n",
              "  <tbody>\n",
              "    <tr>\n",
              "      <th>0</th>\n",
              "      <td>1970</td>\n",
              "      <td>4685.42942</td>\n",
              "      <td>4685.42942</td>\n",
              "    </tr>\n",
              "    <tr>\n",
              "      <th>1</th>\n",
              "      <td>1971</td>\n",
              "      <td>4550.80871</td>\n",
              "      <td>4550.80871</td>\n",
              "    </tr>\n",
              "    <tr>\n",
              "      <th>2</th>\n",
              "      <td>1972</td>\n",
              "      <td>4799.58289</td>\n",
              "      <td>4799.58289</td>\n",
              "    </tr>\n",
              "    <tr>\n",
              "      <th>3</th>\n",
              "      <td>1973</td>\n",
              "      <td>4987.24848</td>\n",
              "      <td>4987.24848</td>\n",
              "    </tr>\n",
              "    <tr>\n",
              "      <th>4</th>\n",
              "      <td>1974</td>\n",
              "      <td>4822.62093</td>\n",
              "      <td>4822.62093</td>\n",
              "    </tr>\n",
              "  </tbody>\n",
              "</table>\n",
              "</div>"
            ],
            "text/plain": [
              "Indicator  Year  CO2 emissions  Total CO2 (Mt) from EDGARED2019\n",
              "0          1970     4685.42942                       4685.42942\n",
              "1          1971     4550.80871                       4550.80871\n",
              "2          1972     4799.58289                       4799.58289\n",
              "3          1973     4987.24848                       4987.24848\n",
              "4          1974     4822.62093                       4822.62093"
            ]
          },
          "metadata": {},
          "execution_count": 6
        }
      ]
    },
    {
      "cell_type": "code",
      "metadata": {
        "colab": {
          "base_uri": "https://localhost:8080/",
          "height": 241
        },
        "id": "uckd0R6GYuXh",
        "outputId": "3008d675-bbe2-497b-9a54-848bd77336bb"
      },
      "source": [
        "# No 3: CDI mt CO2 from different sectors\n",
        "Indicator3 = ['CO2 emissions from bunker fuels', 'CO2 emissions from cement production', 'CO2 emissions from fossil-fuels', 'CO2 emissions from gas flaring']\n",
        "df_filter3 = df[(df['Dataset'] == 'CDIACGNCO2015') & (df['Year'] >= 1970) & (df['Indicator'].isin(Indicator3))]\n",
        "print('The unit of the values are: {}, and needs to be changed into Mt of CO2.'.format(df_filter3['Unit'].unique()[0]))\n",
        "df_3 = pd.crosstab(df_filter3.Year, df_filter3.Indicator, values = df_filter3.Value/1000/12*44, aggfunc = 'sum').reset_index()\n",
        "df_3['Total CO2 (Mt) from CDIACGNCO2015'] = df_3.sum(axis = 1)\n",
        "df_3.head()"
      ],
      "execution_count": 7,
      "outputs": [
        {
          "output_type": "stream",
          "name": "stdout",
          "text": [
            "The unit of the values are: Thousand metric tons of carbon, and needs to be changed into Mt of CO2.\n"
          ]
        },
        {
          "output_type": "execute_result",
          "data": {
            "text/html": [
              "<div>\n",
              "<style scoped>\n",
              "    .dataframe tbody tr th:only-of-type {\n",
              "        vertical-align: middle;\n",
              "    }\n",
              "\n",
              "    .dataframe tbody tr th {\n",
              "        vertical-align: top;\n",
              "    }\n",
              "\n",
              "    .dataframe thead th {\n",
              "        text-align: right;\n",
              "    }\n",
              "</style>\n",
              "<table border=\"1\" class=\"dataframe\">\n",
              "  <thead>\n",
              "    <tr style=\"text-align: right;\">\n",
              "      <th>Indicator</th>\n",
              "      <th>Year</th>\n",
              "      <th>CO2 emissions from bunker fuels</th>\n",
              "      <th>CO2 emissions from cement production</th>\n",
              "      <th>CO2 emissions from fossil-fuels</th>\n",
              "      <th>CO2 emissions from gas flaring</th>\n",
              "      <th>Total CO2 (Mt) from CDIACGNCO2015</th>\n",
              "    </tr>\n",
              "  </thead>\n",
              "  <tbody>\n",
              "    <tr>\n",
              "      <th>0</th>\n",
              "      <td>1970</td>\n",
              "      <td>48.656667</td>\n",
              "      <td>33.755333</td>\n",
              "      <td>4328.511000</td>\n",
              "      <td>26.268000</td>\n",
              "      <td>6407.191000</td>\n",
              "    </tr>\n",
              "    <tr>\n",
              "      <th>1</th>\n",
              "      <td>1971</td>\n",
              "      <td>46.838000</td>\n",
              "      <td>36.333000</td>\n",
              "      <td>4356.374000</td>\n",
              "      <td>15.271667</td>\n",
              "      <td>6425.816667</td>\n",
              "    </tr>\n",
              "    <tr>\n",
              "      <th>2</th>\n",
              "      <td>1972</td>\n",
              "      <td>46.141333</td>\n",
              "      <td>38.250667</td>\n",
              "      <td>4564.538000</td>\n",
              "      <td>13.317333</td>\n",
              "      <td>6634.247333</td>\n",
              "    </tr>\n",
              "    <tr>\n",
              "      <th>3</th>\n",
              "      <td>1973</td>\n",
              "      <td>53.584667</td>\n",
              "      <td>39.618333</td>\n",
              "      <td>4769.761333</td>\n",
              "      <td>13.196333</td>\n",
              "      <td>6849.160667</td>\n",
              "    </tr>\n",
              "    <tr>\n",
              "      <th>4</th>\n",
              "      <td>1974</td>\n",
              "      <td>53.075000</td>\n",
              "      <td>37.495333</td>\n",
              "      <td>4598.069667</td>\n",
              "      <td>8.906333</td>\n",
              "      <td>6671.546333</td>\n",
              "    </tr>\n",
              "  </tbody>\n",
              "</table>\n",
              "</div>"
            ],
            "text/plain": [
              "Indicator  Year  ...  Total CO2 (Mt) from CDIACGNCO2015\n",
              "0          1970  ...                        6407.191000\n",
              "1          1971  ...                        6425.816667\n",
              "2          1972  ...                        6634.247333\n",
              "3          1973  ...                        6849.160667\n",
              "4          1974  ...                        6671.546333\n",
              "\n",
              "[5 rows x 6 columns]"
            ]
          },
          "metadata": {},
          "execution_count": 7
        }
      ]
    },
    {
      "cell_type": "code",
      "metadata": {
        "colab": {
          "base_uri": "https://localhost:8080/",
          "height": 258
        },
        "id": "bpVTOqDJ5Ix4",
        "outputId": "aae9fff4-7134-42d2-b80a-df5f55550db5"
      },
      "source": [
        "# No 4: WB % CO2 from different sectors\n",
        "Indicator4 = ['CO2 emissions from electricity production (%)', 'CO2 emissions from manufacturing industries (%)', 'CO2 emissions from other sectors (%)', 'CO2 emissions: residential buildings (%)', 'CO2 emissions: transport (%)']\n",
        "df_filter4 = df[(df['Dataset'] == 'WBWDI2019Jan') & (df['Year'] >= 1970) & (df['Indicator'].isin(Indicator4)) & (df['Country'] == 'United States of America')]\n",
        "print('The unit of the values are: {}.'.format(df_filter4['Unit'].unique()[0]))\n",
        "df_4 = pd.crosstab(df_filter4.Year, df_filter4.Indicator, values = df_filter4.Value, aggfunc = 'sum')\n",
        "df_4['Total CO2 (%) from WBWDI2019Jan'] = df_4.sum(axis = 1)\n",
        "df_4.reset_index(inplace = True)\n",
        "df_4.head()"
      ],
      "execution_count": 8,
      "outputs": [
        {
          "output_type": "stream",
          "name": "stdout",
          "text": [
            "The unit of the values are: %.\n"
          ]
        },
        {
          "output_type": "execute_result",
          "data": {
            "text/html": [
              "<div>\n",
              "<style scoped>\n",
              "    .dataframe tbody tr th:only-of-type {\n",
              "        vertical-align: middle;\n",
              "    }\n",
              "\n",
              "    .dataframe tbody tr th {\n",
              "        vertical-align: top;\n",
              "    }\n",
              "\n",
              "    .dataframe thead th {\n",
              "        text-align: right;\n",
              "    }\n",
              "</style>\n",
              "<table border=\"1\" class=\"dataframe\">\n",
              "  <thead>\n",
              "    <tr style=\"text-align: right;\">\n",
              "      <th>Indicator</th>\n",
              "      <th>Year</th>\n",
              "      <th>CO2 emissions from electricity production (%)</th>\n",
              "      <th>CO2 emissions from manufacturing industries (%)</th>\n",
              "      <th>CO2 emissions from other sectors (%)</th>\n",
              "      <th>CO2 emissions: residential buildings (%)</th>\n",
              "      <th>CO2 emissions: transport (%)</th>\n",
              "      <th>Total CO2 (%) from WBWDI2019Jan</th>\n",
              "    </tr>\n",
              "  </thead>\n",
              "  <tbody>\n",
              "    <tr>\n",
              "      <th>0</th>\n",
              "      <td>1970</td>\n",
              "      <td>32.48665</td>\n",
              "      <td>22.80272</td>\n",
              "      <td>1.09926</td>\n",
              "      <td>19.02232</td>\n",
              "      <td>24.58928</td>\n",
              "      <td>100.00023</td>\n",
              "    </tr>\n",
              "    <tr>\n",
              "      <th>1</th>\n",
              "      <td>1971</td>\n",
              "      <td>33.00001</td>\n",
              "      <td>20.78338</td>\n",
              "      <td>1.81573</td>\n",
              "      <td>19.06140</td>\n",
              "      <td>25.33949</td>\n",
              "      <td>100.00001</td>\n",
              "    </tr>\n",
              "    <tr>\n",
              "      <th>2</th>\n",
              "      <td>1972</td>\n",
              "      <td>34.30646</td>\n",
              "      <td>20.12861</td>\n",
              "      <td>1.67131</td>\n",
              "      <td>18.39059</td>\n",
              "      <td>25.50304</td>\n",
              "      <td>100.00001</td>\n",
              "    </tr>\n",
              "    <tr>\n",
              "      <th>3</th>\n",
              "      <td>1973</td>\n",
              "      <td>35.55165</td>\n",
              "      <td>20.09723</td>\n",
              "      <td>1.58079</td>\n",
              "      <td>17.04822</td>\n",
              "      <td>25.72211</td>\n",
              "      <td>100.00000</td>\n",
              "    </tr>\n",
              "    <tr>\n",
              "      <th>4</th>\n",
              "      <td>1974</td>\n",
              "      <td>36.05384</td>\n",
              "      <td>19.49222</td>\n",
              "      <td>1.80745</td>\n",
              "      <td>16.68741</td>\n",
              "      <td>25.95908</td>\n",
              "      <td>100.00000</td>\n",
              "    </tr>\n",
              "  </tbody>\n",
              "</table>\n",
              "</div>"
            ],
            "text/plain": [
              "Indicator  Year  ...  Total CO2 (%) from WBWDI2019Jan\n",
              "0          1970  ...                        100.00023\n",
              "1          1971  ...                        100.00001\n",
              "2          1972  ...                        100.00001\n",
              "3          1973  ...                        100.00000\n",
              "4          1974  ...                        100.00000\n",
              "\n",
              "[5 rows x 7 columns]"
            ]
          },
          "metadata": {},
          "execution_count": 8
        }
      ]
    },
    {
      "cell_type": "code",
      "metadata": {
        "colab": {
          "base_uri": "https://localhost:8080/",
          "height": 223
        },
        "id": "bozsyLhG7X7n",
        "outputId": "7d0092cd-45be-4f0d-cade-8238758ac879"
      },
      "source": [
        "# No 5: WB Mt of CO2 equivalent of methane\n",
        "Indicator5 = ['Methane emissions']\n",
        "df_filter5 = df[(df['Dataset'] == 'WBWDI2019Jan') & (df['Year'] >= 1970) & (df['Indicator'].isin(Indicator5))]\n",
        "print('The unit of the values are: {}, and needs to be changed into Mt.'.format(df_filter5['Unit'].unique()[0]))\n",
        "df_5 = pd.crosstab(df_filter5.Year, df_filter5.Indicator, values = df_filter5.Value/1000, aggfunc = 'sum')\n",
        "df_5['Total methane (Mt of CO2 equivalent) from WBWDI2019Jan'] = df_5.sum(axis = 1)\n",
        "df_5.reset_index(inplace = True)\n",
        "df_5.head()"
      ],
      "execution_count": 9,
      "outputs": [
        {
          "output_type": "stream",
          "name": "stdout",
          "text": [
            "The unit of the values are: kt of CO2 equivalent, and needs to be changed into Mt.\n"
          ]
        },
        {
          "output_type": "execute_result",
          "data": {
            "text/html": [
              "<div>\n",
              "<style scoped>\n",
              "    .dataframe tbody tr th:only-of-type {\n",
              "        vertical-align: middle;\n",
              "    }\n",
              "\n",
              "    .dataframe tbody tr th {\n",
              "        vertical-align: top;\n",
              "    }\n",
              "\n",
              "    .dataframe thead th {\n",
              "        text-align: right;\n",
              "    }\n",
              "</style>\n",
              "<table border=\"1\" class=\"dataframe\">\n",
              "  <thead>\n",
              "    <tr style=\"text-align: right;\">\n",
              "      <th>Indicator</th>\n",
              "      <th>Year</th>\n",
              "      <th>Methane emissions</th>\n",
              "      <th>Total methane (Mt of CO2 equivalent) from WBWDI2019Jan</th>\n",
              "    </tr>\n",
              "  </thead>\n",
              "  <tbody>\n",
              "    <tr>\n",
              "      <th>0</th>\n",
              "      <td>1970</td>\n",
              "      <td>594.255</td>\n",
              "      <td>594.255</td>\n",
              "    </tr>\n",
              "    <tr>\n",
              "      <th>1</th>\n",
              "      <td>1971</td>\n",
              "      <td>579.493</td>\n",
              "      <td>579.493</td>\n",
              "    </tr>\n",
              "    <tr>\n",
              "      <th>2</th>\n",
              "      <td>1972</td>\n",
              "      <td>586.231</td>\n",
              "      <td>586.231</td>\n",
              "    </tr>\n",
              "    <tr>\n",
              "      <th>3</th>\n",
              "      <td>1973</td>\n",
              "      <td>589.314</td>\n",
              "      <td>589.314</td>\n",
              "    </tr>\n",
              "    <tr>\n",
              "      <th>4</th>\n",
              "      <td>1974</td>\n",
              "      <td>588.197</td>\n",
              "      <td>588.197</td>\n",
              "    </tr>\n",
              "  </tbody>\n",
              "</table>\n",
              "</div>"
            ],
            "text/plain": [
              "Indicator  Year  ...  Total methane (Mt of CO2 equivalent) from WBWDI2019Jan\n",
              "0          1970  ...                                            594.255     \n",
              "1          1971  ...                                            579.493     \n",
              "2          1972  ...                                            586.231     \n",
              "3          1973  ...                                            589.314     \n",
              "4          1974  ...                                            588.197     \n",
              "\n",
              "[5 rows x 3 columns]"
            ]
          },
          "metadata": {},
          "execution_count": 9
        }
      ]
    },
    {
      "cell_type": "code",
      "metadata": {
        "colab": {
          "base_uri": "https://localhost:8080/",
          "height": 241
        },
        "id": "_pW5NfeWPK_t",
        "outputId": "5dc9c004-4122-44b2-fa3b-14a80be3ea49"
      },
      "source": [
        "# No 6: CDI mt CO2 from gas solid liquid fuels\n",
        "Indicator6 = ['CO2 emissions from gas fuel consumption', 'CO2 emissions from liquid fuel consumption', 'CO2 emissions from solid fuel consumption']\n",
        "df_filter6 = df[(df['Dataset'] == 'CDIACGNCO2015') & (df['Year'] >= 1970) & (df['Indicator'].isin(Indicator6))]\n",
        "print('The unit of the values are: {}, and needs to be changed into Mt of CO2.'.format(df_filter6['Unit'].unique()[0]))\n",
        "df_6 = pd.crosstab(df_filter6.Year, df_filter6.Indicator, values = df_filter6.Value/1000/12*44, aggfunc = 'sum').reset_index()\n",
        "df_6['Total CO2 (Mt) from CDIACGNCO2015'] = df_6.sum(axis = 1)\n",
        "df_6.head()"
      ],
      "execution_count": 10,
      "outputs": [
        {
          "output_type": "stream",
          "name": "stdout",
          "text": [
            "The unit of the values are: Thousand metric tons of carbon, and needs to be changed into Mt of CO2.\n"
          ]
        },
        {
          "output_type": "execute_result",
          "data": {
            "text/html": [
              "<div>\n",
              "<style scoped>\n",
              "    .dataframe tbody tr th:only-of-type {\n",
              "        vertical-align: middle;\n",
              "    }\n",
              "\n",
              "    .dataframe tbody tr th {\n",
              "        vertical-align: top;\n",
              "    }\n",
              "\n",
              "    .dataframe thead th {\n",
              "        text-align: right;\n",
              "    }\n",
              "</style>\n",
              "<table border=\"1\" class=\"dataframe\">\n",
              "  <thead>\n",
              "    <tr style=\"text-align: right;\">\n",
              "      <th>Indicator</th>\n",
              "      <th>Year</th>\n",
              "      <th>CO2 emissions from gas fuel consumption</th>\n",
              "      <th>CO2 emissions from liquid fuel consumption</th>\n",
              "      <th>CO2 emissions from solid fuel consumption</th>\n",
              "      <th>Total CO2 (Mt) from CDIACGNCO2015</th>\n",
              "    </tr>\n",
              "  </thead>\n",
              "  <tbody>\n",
              "    <tr>\n",
              "      <th>0</th>\n",
              "      <td>1970</td>\n",
              "      <td>1059.982000</td>\n",
              "      <td>2039.565000</td>\n",
              "      <td>1168.940667</td>\n",
              "      <td>6238.487667</td>\n",
              "    </tr>\n",
              "    <tr>\n",
              "      <th>1</th>\n",
              "      <td>1971</td>\n",
              "      <td>1097.726667</td>\n",
              "      <td>2098.833000</td>\n",
              "      <td>1108.213333</td>\n",
              "      <td>6275.773000</td>\n",
              "    </tr>\n",
              "    <tr>\n",
              "      <th>2</th>\n",
              "      <td>1972</td>\n",
              "      <td>1116.485333</td>\n",
              "      <td>2270.825333</td>\n",
              "      <td>1125.659333</td>\n",
              "      <td>6484.970000</td>\n",
              "    </tr>\n",
              "    <tr>\n",
              "      <th>3</th>\n",
              "      <td>1973</td>\n",
              "      <td>1104.282667</td>\n",
              "      <td>2401.230333</td>\n",
              "      <td>1211.433667</td>\n",
              "      <td>6689.946667</td>\n",
              "    </tr>\n",
              "    <tr>\n",
              "      <th>4</th>\n",
              "      <td>1974</td>\n",
              "      <td>1052.934667</td>\n",
              "      <td>2301.581333</td>\n",
              "      <td>1197.152000</td>\n",
              "      <td>6525.668000</td>\n",
              "    </tr>\n",
              "  </tbody>\n",
              "</table>\n",
              "</div>"
            ],
            "text/plain": [
              "Indicator  Year  ...  Total CO2 (Mt) from CDIACGNCO2015\n",
              "0          1970  ...                        6238.487667\n",
              "1          1971  ...                        6275.773000\n",
              "2          1972  ...                        6484.970000\n",
              "3          1973  ...                        6689.946667\n",
              "4          1974  ...                        6525.668000\n",
              "\n",
              "[5 rows x 5 columns]"
            ]
          },
          "metadata": {},
          "execution_count": 10
        }
      ]
    },
    {
      "cell_type": "code",
      "metadata": {
        "id": "yHLrZmIZQG4H",
        "colab": {
          "base_uri": "https://localhost:8080/",
          "height": 279
        },
        "outputId": "32c9ac47-5b53-4ef4-b105-2b946d5cc8fa"
      },
      "source": [
        "for df in [df_1, df_2, df_3, df_6]:\n",
        "    plt.plot(df['Year'], df.iloc[:,-1], label = df.columns[-1])\n",
        "plt.legend()\n",
        "plt.xlabel('Year')\n",
        "plt.ylabel('Total CO2 (Mt)')\n",
        "plt.savefig('Total CO2 vs Year of different dataset.pdf')"
      ],
      "execution_count": 11,
      "outputs": [
        {
          "output_type": "display_data",
          "data": {
            "image/png": "[encoded data removed]",
            "text/plain": [
              "<Figure size 432x288 with 1 Axes>"
            ]
          },
          "metadata": {
            "needs_background": "light"
          }
        }
      ]
    },
    {
      "cell_type": "markdown",
      "metadata": {
        "id": "Ao7Dkb_ReRGc"
      },
      "source": [
        "Stock price"
      ]
    },
    {
      "cell_type": "code",
      "metadata": {
        "id": "uznFPsNeHlt4"
      },
      "source": [
        "url = 'https://raw.githubusercontent.com/qixuan-code/2021_TAMU/main/ETF_price_volume_ordered.csv'\n",
        "df_ETF = pd.read_csv(url,na_values='na')\n",
        "ordered_df_ETF = df_ETF.sort_values(by=['YEAR'])"
      ],
      "execution_count": 12,
      "outputs": []
    },
    {
      "cell_type": "code",
      "metadata": {
        "id": "mOIpUg1DeW56"
      },
      "source": [
        "df_SPY = ordered_df_ETF[df_ETF['SYMBOL'] == 'SPY']\n",
        "df_XLB = ordered_df_ETF[df_ETF['SYMBOL'] == 'XLB']\n",
        "df_XLE = ordered_df_ETF[df_ETF['SYMBOL'] == 'XLE']\n",
        "df_XLF = ordered_df_ETF[df_ETF['SYMBOL'] == 'XLF']\n",
        "df_XLI = ordered_df_ETF[df_ETF['SYMBOL'] == 'XLI']\n",
        "df_XLK = ordered_df_ETF[df_ETF['SYMBOL'] == 'XLK']\n",
        "df_XLP = ordered_df_ETF[df_ETF['SYMBOL'] == 'XLP']\n",
        "df_XLRE = ordered_df_ETF[df_ETF['SYMBOL'] == 'XLRE']\n",
        "df_XLU = ordered_df_ETF[df_ETF['SYMBOL'] == 'XLU']\n",
        "df_XLV = ordered_df_ETF[df_ETF['SYMBOL'] == 'XLV']"
      ],
      "execution_count": 13,
      "outputs": []
    },
    {
      "cell_type": "code",
      "metadata": {
        "id": "WzK7sCjveZD0",
        "outputId": "79b07874-31a0-4fc4-9c78-5542a0d397a1",
        "colab": {
          "base_uri": "https://localhost:8080/"
        }
      },
      "source": [
        "len(df_SPY['YEAR'])\n",
        "list1 = ['df_SPY','df_XLB','df_XLE','df_XLF','df_XLI','df_XLK','df_XLP','df_XLRE','df_XLU','df_XLV']\n",
        "i=0\n",
        "for df in [df_SPY,df_XLB,df_XLE,df_XLF,df_XLI,df_XLK,df_XLP,df_XLRE,df_XLU,df_XLV]:\n",
        "  print('length of year' + list1[i] + ':',len(df['YEAR']))\n",
        "  i = i + 1"
      ],
      "execution_count": 14,
      "outputs": [
        {
          "output_type": "stream",
          "name": "stdout",
          "text": [
            "length of yeardf_SPY: 29\n",
            "length of yeardf_XLB: 24\n",
            "length of yeardf_XLE: 24\n",
            "length of yeardf_XLF: 24\n",
            "length of yeardf_XLI: 24\n",
            "length of yeardf_XLK: 24\n",
            "length of yeardf_XLP: 24\n",
            "length of yeardf_XLRE: 7\n",
            "length of yeardf_XLU: 24\n",
            "length of yeardf_XLV: 24\n"
          ]
        }
      ]
    },
    {
      "cell_type": "code",
      "metadata": {
        "id": "H4QOvrWfeb1G",
        "outputId": "9c5d5a9f-ff94-40f5-ec04-d65fd1c9c1a9",
        "colab": {
          "base_uri": "https://localhost:8080/",
          "height": 334
        }
      },
      "source": [
        "plt.figure(figsize=(12,5))\n",
        "for df in [df_SPY,df_XLB,df_XLE,df_XLF,df_XLI,df_XLK,df_XLP,df_XLRE,df_XLU,df_XLV]:\n",
        "  plt.plot(df['YEAR'],df['OPEN_PRICE'],label = list(df['SYMBOL'].unique()))\n",
        "  plt.legend()\n",
        "  plt.xlabel('Year')\n",
        "  plt.ylabel('Open price')"
      ],
      "execution_count": 15,
      "outputs": [
        {
          "output_type": "display_data",
          "data": {
            "image/png": "[encoded data removed]",
            "text/plain": [
              "<Figure size 864x360 with 1 Axes>"
            ]
          },
          "metadata": {
            "needs_background": "light"
          }
        }
      ]
    },
    {
      "cell_type": "markdown",
      "metadata": {
        "id": "GZxjRu9xefaz"
      },
      "source": [
        "From the data visualization of the stock price, we found that XLRE is only recorded for 7 years. We will use data with 23 years for consistency(1998~2020)."
      ]
    },
    {
      "cell_type": "code",
      "metadata": {
        "id": "MIQdN4XVeeeS"
      },
      "source": [
        "feature_stock = ['SPY','XLB','XLE','XLF','XLI','XLK','XLP','XLU','XLV']\n",
        "df_ETF_1998_2020 = ordered_df_ETF[ordered_df_ETF['SYMBOL'].isin(feature_stock) & (ordered_df_ETF['YEAR'] <2020) & (ordered_df_ETF['YEAR'] > 1997)]"
      ],
      "execution_count": 28,
      "outputs": []
    },
    {
      "cell_type": "code",
      "metadata": {
        "id": "H806QUCEg83u",
        "outputId": "016f3f20-764e-4925-c83f-d6ff2709eb4b",
        "colab": {
          "base_uri": "https://localhost:8080/",
          "height": 81
        }
      },
      "source": [
        "df_ETF_1998_2020.head(1)"
      ],
      "execution_count": 34,
      "outputs": [
        {
          "output_type": "execute_result",
          "data": {
            "text/html": [
              "<div>\n",
              "<style scoped>\n",
              "    .dataframe tbody tr th:only-of-type {\n",
              "        vertical-align: middle;\n",
              "    }\n",
              "\n",
              "    .dataframe tbody tr th {\n",
              "        vertical-align: top;\n",
              "    }\n",
              "\n",
              "    .dataframe thead th {\n",
              "        text-align: right;\n",
              "    }\n",
              "</style>\n",
              "<table border=\"1\" class=\"dataframe\">\n",
              "  <thead>\n",
              "    <tr style=\"text-align: right;\">\n",
              "      <th></th>\n",
              "      <th>OPEN_PRICE</th>\n",
              "      <th>CLOSE_PRICE</th>\n",
              "      <th>VOLUME</th>\n",
              "      <th>YEAR</th>\n",
              "      <th>SYMBOL</th>\n",
              "    </tr>\n",
              "  </thead>\n",
              "  <tbody>\n",
              "    <tr>\n",
              "      <th>65</th>\n",
              "      <td>14.558214</td>\n",
              "      <td>14.522486</td>\n",
              "      <td>23657.142857</td>\n",
              "      <td>1998</td>\n",
              "      <td>XLE</td>\n",
              "    </tr>\n",
              "  </tbody>\n",
              "</table>\n",
              "</div>"
            ],
            "text/plain": [
              "    OPEN_PRICE  CLOSE_PRICE        VOLUME  YEAR SYMBOL\n",
              "65   14.558214    14.522486  23657.142857  1998    XLE"
            ]
          },
          "metadata": {},
          "execution_count": 34
        }
      ]
    },
    {
      "cell_type": "code",
      "metadata": {
        "id": "V2dA04shiYGU"
      },
      "source": [
        "columns = ['OPEN_PRICE','YEAR','SYMBOL']\n",
        "df_ETF_1998_2020_1 = df_ETF_1998_2020[columns]\n",
        "#Total_year_Volume =  pd.pivot_table(year_volume, index=[\"YEAR(DATE)\"], columns=[\"SECTOR\"], values=[\"AVG(VOLUME)\"], aggfunc=np.sum)\n",
        "ETF_summary = pd.crosstab(df_ETF_1998_2020_1['YEAR'],df_ETF_1998_2020_1['SYMBOL'], values = df_ETF_1998_2020_1['OPEN_PRICE'],aggfunc = 'mean')\n",
        "ETF_summary.reset_index(inplace=True)"
      ],
      "execution_count": 53,
      "outputs": []
    },
    {
      "cell_type": "code",
      "metadata": {
        "id": "vB6Ap9flhcQI",
        "outputId": "0d6db7b7-7a34-4432-9143-598ecc2a9ed3",
        "colab": {
          "base_uri": "https://localhost:8080/",
          "height": 81
        }
      },
      "source": [
        "ETF_summary.head(1)"
      ],
      "execution_count": 54,
      "outputs": [
        {
          "output_type": "execute_result",
          "data": {
            "text/html": [
              "<div>\n",
              "<style scoped>\n",
              "    .dataframe tbody tr th:only-of-type {\n",
              "        vertical-align: middle;\n",
              "    }\n",
              "\n",
              "    .dataframe tbody tr th {\n",
              "        vertical-align: top;\n",
              "    }\n",
              "\n",
              "    .dataframe thead th {\n",
              "        text-align: right;\n",
              "    }\n",
              "</style>\n",
              "<table border=\"1\" class=\"dataframe\">\n",
              "  <thead>\n",
              "    <tr style=\"text-align: right;\">\n",
              "      <th>SYMBOL</th>\n",
              "      <th>YEAR</th>\n",
              "      <th>SPY</th>\n",
              "      <th>XLB</th>\n",
              "      <th>XLE</th>\n",
              "      <th>XLF</th>\n",
              "      <th>XLI</th>\n",
              "      <th>XLK</th>\n",
              "      <th>XLP</th>\n",
              "      <th>XLU</th>\n",
              "      <th>XLV</th>\n",
              "    </tr>\n",
              "  </thead>\n",
              "  <tbody>\n",
              "    <tr>\n",
              "      <th>0</th>\n",
              "      <td>1998</td>\n",
              "      <td>72.627322</td>\n",
              "      <td>13.156229</td>\n",
              "      <td>14.558214</td>\n",
              "      <td>9.594114</td>\n",
              "      <td>16.158986</td>\n",
              "      <td>25.548471</td>\n",
              "      <td>16.499529</td>\n",
              "      <td>14.149814</td>\n",
              "      <td>18.717314</td>\n",
              "    </tr>\n",
              "  </tbody>\n",
              "</table>\n",
              "</div>"
            ],
            "text/plain": [
              "SYMBOL  YEAR        SPY        XLB  ...        XLP        XLU        XLV\n",
              "0       1998  72.627322  13.156229  ...  16.499529  14.149814  18.717314\n",
              "\n",
              "[1 rows x 10 columns]"
            ]
          },
          "metadata": {},
          "execution_count": 54
        }
      ]
    },
    {
      "cell_type": "code",
      "metadata": {
        "id": "iAdle2x6hid9"
      },
      "source": [
        "a = pd.merge(df_1,ETF_summary, left_on='Year', right_on='YEAR')"
      ],
      "execution_count": 55,
      "outputs": []
    },
    {
      "cell_type": "code",
      "metadata": {
        "id": "WldrKpF8hwiz",
        "outputId": "717fca46-5ddb-421e-989f-daad9cd8c7b9",
        "colab": {
          "base_uri": "https://localhost:8080/",
          "height": 313
        }
      },
      "source": [
        "a.head()"
      ],
      "execution_count": 56,
      "outputs": [
        {
          "output_type": "execute_result",
          "data": {
            "text/html": [
              "<div>\n",
              "<style scoped>\n",
              "    .dataframe tbody tr th:only-of-type {\n",
              "        vertical-align: middle;\n",
              "    }\n",
              "\n",
              "    .dataframe tbody tr th {\n",
              "        vertical-align: top;\n",
              "    }\n",
              "\n",
              "    .dataframe thead th {\n",
              "        text-align: right;\n",
              "    }\n",
              "</style>\n",
              "<table border=\"1\" class=\"dataframe\">\n",
              "  <thead>\n",
              "    <tr style=\"text-align: right;\">\n",
              "      <th></th>\n",
              "      <th>Year</th>\n",
              "      <th>CO2 emissions from gaseous fuel consumption</th>\n",
              "      <th>CO2 emissions from liquid fuel consumption</th>\n",
              "      <th>CO2 emissions from solid fuel consumption</th>\n",
              "      <th>Total CO2 (Mt) from WBWDI2019Jan</th>\n",
              "      <th>YEAR</th>\n",
              "      <th>SPY</th>\n",
              "      <th>XLB</th>\n",
              "      <th>XLE</th>\n",
              "      <th>XLF</th>\n",
              "      <th>XLI</th>\n",
              "      <th>XLK</th>\n",
              "      <th>XLP</th>\n",
              "      <th>XLU</th>\n",
              "      <th>XLV</th>\n",
              "    </tr>\n",
              "  </thead>\n",
              "  <tbody>\n",
              "    <tr>\n",
              "      <th>0</th>\n",
              "      <td>1998</td>\n",
              "      <td>1142.303503</td>\n",
              "      <td>2236.224608</td>\n",
              "      <td>1974.276130</td>\n",
              "      <td>5352.804241</td>\n",
              "      <td>1998</td>\n",
              "      <td>72.627322</td>\n",
              "      <td>13.156229</td>\n",
              "      <td>14.558214</td>\n",
              "      <td>9.594114</td>\n",
              "      <td>16.158986</td>\n",
              "      <td>25.548471</td>\n",
              "      <td>16.499529</td>\n",
              "      <td>14.149814</td>\n",
              "      <td>18.717314</td>\n",
              "    </tr>\n",
              "    <tr>\n",
              "      <th>1</th>\n",
              "      <td>1999</td>\n",
              "      <td>1200.792153</td>\n",
              "      <td>2267.434445</td>\n",
              "      <td>1986.721928</td>\n",
              "      <td>5454.948526</td>\n",
              "      <td>1999</td>\n",
              "      <td>90.014650</td>\n",
              "      <td>15.115638</td>\n",
              "      <td>16.562954</td>\n",
              "      <td>10.081256</td>\n",
              "      <td>18.803079</td>\n",
              "      <td>31.343837</td>\n",
              "      <td>15.639756</td>\n",
              "      <td>13.882892</td>\n",
              "      <td>20.782213</td>\n",
              "    </tr>\n",
              "    <tr>\n",
              "      <th>2</th>\n",
              "      <td>2000</td>\n",
              "      <td>1255.148094</td>\n",
              "      <td>2318.017043</td>\n",
              "      <td>2070.963919</td>\n",
              "      <td>5644.129056</td>\n",
              "      <td>2000</td>\n",
              "      <td>97.857576</td>\n",
              "      <td>13.281517</td>\n",
              "      <td>19.180814</td>\n",
              "      <td>10.531084</td>\n",
              "      <td>20.136407</td>\n",
              "      <td>39.281529</td>\n",
              "      <td>15.007038</td>\n",
              "      <td>14.168017</td>\n",
              "      <td>21.692899</td>\n",
              "    </tr>\n",
              "    <tr>\n",
              "      <th>3</th>\n",
              "      <td>2001</td>\n",
              "      <td>1179.494217</td>\n",
              "      <td>2327.815267</td>\n",
              "      <td>2038.155270</td>\n",
              "      <td>5545.464754</td>\n",
              "      <td>2001</td>\n",
              "      <td>82.722688</td>\n",
              "      <td>13.940715</td>\n",
              "      <td>19.244551</td>\n",
              "      <td>11.366008</td>\n",
              "      <td>19.614967</td>\n",
              "      <td>20.786397</td>\n",
              "      <td>16.059144</td>\n",
              "      <td>15.373481</td>\n",
              "      <td>20.364076</td>\n",
              "    </tr>\n",
              "    <tr>\n",
              "      <th>4</th>\n",
              "      <td>2002</td>\n",
              "      <td>1225.702084</td>\n",
              "      <td>2304.383137</td>\n",
              "      <td>2060.362622</td>\n",
              "      <td>5590.447843</td>\n",
              "      <td>2002</td>\n",
              "      <td>69.903438</td>\n",
              "      <td>14.177254</td>\n",
              "      <td>16.126487</td>\n",
              "      <td>10.417092</td>\n",
              "      <td>16.524612</td>\n",
              "      <td>13.699158</td>\n",
              "      <td>14.659239</td>\n",
              "      <td>12.013463</td>\n",
              "      <td>20.485997</td>\n",
              "    </tr>\n",
              "  </tbody>\n",
              "</table>\n",
              "</div>"
            ],
            "text/plain": [
              "   Year  CO2 emissions from gaseous fuel consumption  ...        XLU        XLV\n",
              "0  1998                                  1142.303503  ...  14.149814  18.717314\n",
              "1  1999                                  1200.792153  ...  13.882892  20.782213\n",
              "2  2000                                  1255.148094  ...  14.168017  21.692899\n",
              "3  2001                                  1179.494217  ...  15.373481  20.364076\n",
              "4  2002                                  1225.702084  ...  12.013463  20.485997\n",
              "\n",
              "[5 rows x 15 columns]"
            ]
          },
          "metadata": {},
          "execution_count": 56
        }
      ]
    },
    {
      "cell_type": "code",
      "metadata": {
        "id": "Cu5iMNgLhw7C",
        "outputId": "ec0f8d7a-4cb2-4dcc-fb43-9cc196598de3",
        "colab": {
          "base_uri": "https://localhost:8080/",
          "height": 571
        }
      },
      "source": [
        "del a['YEAR']\n",
        "del a['Year']"
      ],
      "execution_count": 60,
      "outputs": [
        {
          "output_type": "error",
          "ename": "KeyError",
          "evalue": "ignored",
          "traceback": [
            "\u001b[0;31m---------------------------------------------------------------------------\u001b[0m",
            "\u001b[0;31mKeyError\u001b[0m                                  Traceback (most recent call last)",
            "\u001b[0;32m/usr/local/lib/python3.7/dist-packages/pandas/core/indexes/base.py\u001b[0m in \u001b[0;36mget_loc\u001b[0;34m(self, key, method, tolerance)\u001b[0m\n\u001b[1;32m   2897\u001b[0m             \u001b[0;32mtry\u001b[0m\u001b[0;34m:\u001b[0m\u001b[0;34m\u001b[0m\u001b[0;34m\u001b[0m\u001b[0m\n\u001b[0;32m-> 2898\u001b[0;31m                 \u001b[0;32mreturn\u001b[0m \u001b[0mself\u001b[0m\u001b[0;34m.\u001b[0m\u001b[0m_engine\u001b[0m\u001b[0;34m.\u001b[0m\u001b[0mget_loc\u001b[0m\u001b[0;34m(\u001b[0m\u001b[0mcasted_key\u001b[0m\u001b[0;34m)\u001b[0m\u001b[0;34m\u001b[0m\u001b[0;34m\u001b[0m\u001b[0m\n\u001b[0m\u001b[1;32m   2899\u001b[0m             \u001b[0;32mexcept\u001b[0m \u001b[0mKeyError\u001b[0m \u001b[0;32mas\u001b[0m \u001b[0merr\u001b[0m\u001b[0;34m:\u001b[0m\u001b[0;34m\u001b[0m\u001b[0;34m\u001b[0m\u001b[0m\n",
            "\u001b[0;32mpandas/_libs/index.pyx\u001b[0m in \u001b[0;36mpandas._libs.index.IndexEngine.get_loc\u001b[0;34m()\u001b[0m\n",
            "\u001b[0;32mpandas/_libs/index.pyx\u001b[0m in \u001b[0;36mpandas._libs.index.IndexEngine.get_loc\u001b[0;34m()\u001b[0m\n",
            "\u001b[0;32mpandas/_libs/hashtable_class_helper.pxi\u001b[0m in \u001b[0;36mpandas._libs.hashtable.PyObjectHashTable.get_item\u001b[0;34m()\u001b[0m\n",
            "\u001b[0;32mpandas/_libs/hashtable_class_helper.pxi\u001b[0m in \u001b[0;36mpandas._libs.hashtable.PyObjectHashTable.get_item\u001b[0;34m()\u001b[0m\n",
            "\u001b[0;31mKeyError\u001b[0m: 'YEAR'",
            "\nThe above exception was the direct cause of the following exception:\n",
            "\u001b[0;31mKeyError\u001b[0m                                  Traceback (most recent call last)",
            "\u001b[0;32m<ipython-input-60-856ef114ed3c>\u001b[0m in \u001b[0;36m<module>\u001b[0;34m()\u001b[0m\n\u001b[0;32m----> 1\u001b[0;31m \u001b[0;32mdel\u001b[0m \u001b[0ma\u001b[0m\u001b[0;34m[\u001b[0m\u001b[0;34m'YEAR'\u001b[0m\u001b[0;34m]\u001b[0m\u001b[0;34m\u001b[0m\u001b[0;34m\u001b[0m\u001b[0m\n\u001b[0m\u001b[1;32m      2\u001b[0m \u001b[0;32mdel\u001b[0m \u001b[0ma\u001b[0m\u001b[0;34m[\u001b[0m\u001b[0;34m'Year'\u001b[0m\u001b[0;34m]\u001b[0m\u001b[0;34m\u001b[0m\u001b[0;34m\u001b[0m\u001b[0m\n",
            "\u001b[0;32m/usr/local/lib/python3.7/dist-packages/pandas/core/generic.py\u001b[0m in \u001b[0;36m__delitem__\u001b[0;34m(self, key)\u001b[0m\n\u001b[1;32m   3711\u001b[0m             \u001b[0;31m# there was no match, this call should raise the appropriate\u001b[0m\u001b[0;34m\u001b[0m\u001b[0;34m\u001b[0m\u001b[0;34m\u001b[0m\u001b[0m\n\u001b[1;32m   3712\u001b[0m             \u001b[0;31m# exception:\u001b[0m\u001b[0;34m\u001b[0m\u001b[0;34m\u001b[0m\u001b[0;34m\u001b[0m\u001b[0m\n\u001b[0;32m-> 3713\u001b[0;31m             \u001b[0mloc\u001b[0m \u001b[0;34m=\u001b[0m \u001b[0mself\u001b[0m\u001b[0;34m.\u001b[0m\u001b[0maxes\u001b[0m\u001b[0;34m[\u001b[0m\u001b[0;34m-\u001b[0m\u001b[0;36m1\u001b[0m\u001b[0;34m]\u001b[0m\u001b[0;34m.\u001b[0m\u001b[0mget_loc\u001b[0m\u001b[0;34m(\u001b[0m\u001b[0mkey\u001b[0m\u001b[0;34m)\u001b[0m\u001b[0;34m\u001b[0m\u001b[0;34m\u001b[0m\u001b[0m\n\u001b[0m\u001b[1;32m   3714\u001b[0m             \u001b[0mself\u001b[0m\u001b[0;34m.\u001b[0m\u001b[0m_mgr\u001b[0m\u001b[0;34m.\u001b[0m\u001b[0midelete\u001b[0m\u001b[0;34m(\u001b[0m\u001b[0mloc\u001b[0m\u001b[0;34m)\u001b[0m\u001b[0;34m\u001b[0m\u001b[0;34m\u001b[0m\u001b[0m\n\u001b[1;32m   3715\u001b[0m \u001b[0;34m\u001b[0m\u001b[0m\n",
            "\u001b[0;32m/usr/local/lib/python3.7/dist-packages/pandas/core/indexes/base.py\u001b[0m in \u001b[0;36mget_loc\u001b[0;34m(self, key, method, tolerance)\u001b[0m\n\u001b[1;32m   2898\u001b[0m                 \u001b[0;32mreturn\u001b[0m \u001b[0mself\u001b[0m\u001b[0;34m.\u001b[0m\u001b[0m_engine\u001b[0m\u001b[0;34m.\u001b[0m\u001b[0mget_loc\u001b[0m\u001b[0;34m(\u001b[0m\u001b[0mcasted_key\u001b[0m\u001b[0;34m)\u001b[0m\u001b[0;34m\u001b[0m\u001b[0;34m\u001b[0m\u001b[0m\n\u001b[1;32m   2899\u001b[0m             \u001b[0;32mexcept\u001b[0m \u001b[0mKeyError\u001b[0m \u001b[0;32mas\u001b[0m \u001b[0merr\u001b[0m\u001b[0;34m:\u001b[0m\u001b[0;34m\u001b[0m\u001b[0;34m\u001b[0m\u001b[0m\n\u001b[0;32m-> 2900\u001b[0;31m                 \u001b[0;32mraise\u001b[0m \u001b[0mKeyError\u001b[0m\u001b[0;34m(\u001b[0m\u001b[0mkey\u001b[0m\u001b[0;34m)\u001b[0m \u001b[0;32mfrom\u001b[0m \u001b[0merr\u001b[0m\u001b[0;34m\u001b[0m\u001b[0;34m\u001b[0m\u001b[0m\n\u001b[0m\u001b[1;32m   2901\u001b[0m \u001b[0;34m\u001b[0m\u001b[0m\n\u001b[1;32m   2902\u001b[0m         \u001b[0;32mif\u001b[0m \u001b[0mtolerance\u001b[0m \u001b[0;32mis\u001b[0m \u001b[0;32mnot\u001b[0m \u001b[0;32mNone\u001b[0m\u001b[0;34m:\u001b[0m\u001b[0;34m\u001b[0m\u001b[0;34m\u001b[0m\u001b[0m\n",
            "\u001b[0;31mKeyError\u001b[0m: 'YEAR'"
          ]
        }
      ]
    },
    {
      "cell_type": "code",
      "metadata": {
        "id": "986vCjcUh9zb",
        "outputId": "96590094-1037-457e-eb15-4a32fb8e4f8a",
        "colab": {
          "base_uri": "https://localhost:8080/",
          "height": 167
        }
      },
      "source": [
        "del a['Year']\n",
        "a.head(1)"
      ],
      "execution_count": 62,
      "outputs": [
        {
          "output_type": "execute_result",
          "data": {
            "text/html": [
              "<div>\n",
              "<style scoped>\n",
              "    .dataframe tbody tr th:only-of-type {\n",
              "        vertical-align: middle;\n",
              "    }\n",
              "\n",
              "    .dataframe tbody tr th {\n",
              "        vertical-align: top;\n",
              "    }\n",
              "\n",
              "    .dataframe thead th {\n",
              "        text-align: right;\n",
              "    }\n",
              "</style>\n",
              "<table border=\"1\" class=\"dataframe\">\n",
              "  <thead>\n",
              "    <tr style=\"text-align: right;\">\n",
              "      <th></th>\n",
              "      <th>CO2 emissions from gaseous fuel consumption</th>\n",
              "      <th>CO2 emissions from liquid fuel consumption</th>\n",
              "      <th>CO2 emissions from solid fuel consumption</th>\n",
              "      <th>Total CO2 (Mt) from WBWDI2019Jan</th>\n",
              "      <th>SPY</th>\n",
              "      <th>XLB</th>\n",
              "      <th>XLE</th>\n",
              "      <th>XLF</th>\n",
              "      <th>XLI</th>\n",
              "      <th>XLK</th>\n",
              "      <th>XLP</th>\n",
              "      <th>XLU</th>\n",
              "      <th>XLV</th>\n",
              "    </tr>\n",
              "  </thead>\n",
              "  <tbody>\n",
              "    <tr>\n",
              "      <th>0</th>\n",
              "      <td>1142.303503</td>\n",
              "      <td>2236.224608</td>\n",
              "      <td>1974.27613</td>\n",
              "      <td>5352.804241</td>\n",
              "      <td>72.627322</td>\n",
              "      <td>13.156229</td>\n",
              "      <td>14.558214</td>\n",
              "      <td>9.594114</td>\n",
              "      <td>16.158986</td>\n",
              "      <td>25.548471</td>\n",
              "      <td>16.499529</td>\n",
              "      <td>14.149814</td>\n",
              "      <td>18.717314</td>\n",
              "    </tr>\n",
              "  </tbody>\n",
              "</table>\n",
              "</div>"
            ],
            "text/plain": [
              "   CO2 emissions from gaseous fuel consumption  ...        XLV\n",
              "0                                  1142.303503  ...  18.717314\n",
              "\n",
              "[1 rows x 13 columns]"
            ]
          },
          "metadata": {},
          "execution_count": 62
        }
      ]
    },
    {
      "cell_type": "code",
      "metadata": {
        "id": "XHEt_pX8iDV0",
        "outputId": "86a0a3bb-edaf-47a6-b530-6142f6aec3bf",
        "colab": {
          "base_uri": "https://localhost:8080/",
          "height": 809
        }
      },
      "source": [
        "corr = a.corr()\n",
        "plt.figure(figsize=(12, 12))\n",
        "ax = sns.heatmap(\n",
        "    corr, \n",
        "    vmin=-1, vmax=1, center=0, cmap = 'bwr',\n",
        "    square=True\n",
        ")\n",
        "ax.set_xticklabels(\n",
        "    ax.get_xticklabels(),\n",
        "    rotation=45,\n",
        "    horizontalalignment='right'\n",
        ");\n",
        "\n",
        "plt.show()"
      ],
      "execution_count": 63,
      "outputs": [
        {
          "output_type": "display_data",
          "data": {
            "image/png": "[encoded data removed]",
            "text/plain": [
              "<Figure size 864x864 with 2 Axes>"
            ]
          },
          "metadata": {
            "needs_background": "light"
          }
        }
      ]
    },
    {
      "cell_type": "code",
      "metadata": {
        "id": "S1rc09f2kqOK"
      },
      "source": [
        ""
      ],
      "execution_count": null,
      "outputs": []
    }
  ]
}