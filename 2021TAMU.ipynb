{
  "nbformat": 4,
  "nbformat_minor": 0,
  "metadata": {
    "colab": {
      "name": "2021TAMU.ipynb",
      "provenance": [],
      "collapsed_sections": [],
      "authorship_tag": "ABX9TyPSewDrT4LF9O0RiVkZvtiD",
      "include_colab_link": true
    },
    "kernelspec": {
      "name": "python3",
      "display_name": "Python 3"
    },
    "language_info": {
      "name": "python"
    }
  },
  "cells": [
    {
      "cell_type": "markdown",
      "metadata": {
        "id": "view-in-github",
        "colab_type": "text"
      },
      "source": [
        "<a href=\"https://colab.research.google.com/github/qixuan-code/2021_TAMU/blob/main/2021TAMU.ipynb\" target=\"_parent\"><img src=\"https://colab.research.google.com/assets/colab-badge.svg\" alt=\"Open In Colab\"/></a>"
      ]
    },
    {
      "cell_type": "code",
      "metadata": {
        "id": "R6FmsxNaUC1u"
      },
      "source": [
        "import pandas as pd\n",
        "import os\n",
        "import matplotlib.pyplot as plt\n",
        "import seaborn as sns\n",
        "import numpy as np\n",
        "%matplotlib inline\n",
        "import warnings\n",
        "from collections import Counter\n",
        "warnings.filterwarnings('ignore')\n",
        "from sklearn import metrics"
      ],
      "execution_count": 125,
      "outputs": []
    },
    {
      "cell_type": "code",
      "metadata": {
        "id": "eT6jWL9OecFi"
      },
      "source": [
        "url = 'https://raw.githubusercontent.com/qixuan-code/2021_TAMU/main/stock_priceavg_data.csv'\n",
        "volume_history = pd.read_csv(url,na_values='na')"
      ],
      "execution_count": 126,
      "outputs": []
    },
    {
      "cell_type": "code",
      "metadata": {
        "id": "l8KWNOUHer5J"
      },
      "source": [
        "url2 = 'https://raw.githubusercontent.com/qixuan-code/2021_TAMU/main/COMPANY_PROFILE.csv'\n",
        "company_profile = pd.read_csv(url2,na_values='na')"
      ],
      "execution_count": 127,
      "outputs": []
    },
    {
      "cell_type": "code",
      "metadata": {
        "id": "3m1QUfBhYa8_"
      },
      "source": [
        "url3 = 'https://raw.githubusercontent.com/qixuan-code/2021_TAMU/main/big_ETF_symbols.csv'\n",
        "big_index =  pd.read_csv(url3,na_values='na')"
      ],
      "execution_count": 128,
      "outputs": []
    },
    {
      "cell_type": "code",
      "metadata": {
        "colab": {
          "base_uri": "https://localhost:8080/",
          "height": 81
        },
        "id": "YPo5BOdCe7Q2",
        "outputId": "f815601a-8d70-407f-c6e9-685b508db3b3"
      },
      "source": [
        "volume_history.head(1)"
      ],
      "execution_count": 130,
      "outputs": [
        {
          "output_type": "execute_result",
          "data": {
            "text/html": [
              "<div>\n",
              "<style scoped>\n",
              "    .dataframe tbody tr th:only-of-type {\n",
              "        vertical-align: middle;\n",
              "    }\n",
              "\n",
              "    .dataframe tbody tr th {\n",
              "        vertical-align: top;\n",
              "    }\n",
              "\n",
              "    .dataframe thead th {\n",
              "        text-align: right;\n",
              "    }\n",
              "</style>\n",
              "<table border=\"1\" class=\"dataframe\">\n",
              "  <thead>\n",
              "    <tr style=\"text-align: right;\">\n",
              "      <th></th>\n",
              "      <th>SYMBOL</th>\n",
              "      <th>AVG(VOLUME)</th>\n",
              "      <th>AVG(OPEN)</th>\n",
              "      <th>AVG(CLOSE)</th>\n",
              "      <th>YEAR(DATE)</th>\n",
              "    </tr>\n",
              "  </thead>\n",
              "  <tbody>\n",
              "    <tr>\n",
              "      <th>0</th>\n",
              "      <td>OVS</td>\n",
              "      <td>4087.331897</td>\n",
              "      <td>23.750209</td>\n",
              "      <td>23.742574</td>\n",
              "      <td>2020</td>\n",
              "    </tr>\n",
              "  </tbody>\n",
              "</table>\n",
              "</div>"
            ],
            "text/plain": [
              "  SYMBOL  AVG(VOLUME)  AVG(OPEN)  AVG(CLOSE)  YEAR(DATE)\n",
              "0    OVS  4087.331897  23.750209   23.742574        2020"
            ]
          },
          "metadata": {},
          "execution_count": 130
        }
      ]
    },
    {
      "cell_type": "code",
      "metadata": {
        "id": "qJTickK-f22b"
      },
      "source": [
        "merged_table = pd.merge(volume_history,company_profile , on='SYMBOL')"
      ],
      "execution_count": 131,
      "outputs": []
    },
    {
      "cell_type": "code",
      "metadata": {
        "colab": {
          "base_uri": "https://localhost:8080/",
          "height": 170
        },
        "id": "PzHCh7WCg_9P",
        "outputId": "a6ad00c3-1593-4e02-f51c-d89510585219"
      },
      "source": [
        "merged_table.head(1)"
      ],
      "execution_count": 132,
      "outputs": [
        {
          "output_type": "execute_result",
          "data": {
            "text/html": [
              "<div>\n",
              "<style scoped>\n",
              "    .dataframe tbody tr th:only-of-type {\n",
              "        vertical-align: middle;\n",
              "    }\n",
              "\n",
              "    .dataframe tbody tr th {\n",
              "        vertical-align: top;\n",
              "    }\n",
              "\n",
              "    .dataframe thead th {\n",
              "        text-align: right;\n",
              "    }\n",
              "</style>\n",
              "<table border=\"1\" class=\"dataframe\">\n",
              "  <thead>\n",
              "    <tr style=\"text-align: right;\">\n",
              "      <th></th>\n",
              "      <th>SYMBOL</th>\n",
              "      <th>AVG(VOLUME)</th>\n",
              "      <th>AVG(OPEN)</th>\n",
              "      <th>AVG(CLOSE)</th>\n",
              "      <th>YEAR(DATE)</th>\n",
              "      <th>ID</th>\n",
              "      <th>PRICE</th>\n",
              "      <th>BETA</th>\n",
              "      <th>VOLAVG</th>\n",
              "      <th>MKTCAP</th>\n",
              "      <th>LASTDIV</th>\n",
              "      <th>RANGE</th>\n",
              "      <th>CHANGES</th>\n",
              "      <th>COMPANYNAME</th>\n",
              "      <th>EXCHANGE</th>\n",
              "      <th>INDUSTRY</th>\n",
              "      <th>WEBSITE</th>\n",
              "      <th>DESCRIPTION</th>\n",
              "      <th>CEO</th>\n",
              "      <th>SECTOR</th>\n",
              "      <th>DCFDIFF</th>\n",
              "      <th>DCF</th>\n",
              "    </tr>\n",
              "  </thead>\n",
              "  <tbody>\n",
              "    <tr>\n",
              "      <th>0</th>\n",
              "      <td>OVS</td>\n",
              "      <td>4087.331897</td>\n",
              "      <td>23.750209</td>\n",
              "      <td>23.742574</td>\n",
              "      <td>2020</td>\n",
              "      <td>12898</td>\n",
              "      <td>23.9021</td>\n",
              "      <td>0.0</td>\n",
              "      <td>4253.0</td>\n",
              "      <td>0.0</td>\n",
              "      <td>0.0</td>\n",
              "      <td>15.278-27.83</td>\n",
              "      <td>1.3337</td>\n",
              "      <td>Overlay Shares Small Cap Equity ETF</td>\n",
              "      <td>NYSEArca</td>\n",
              "      <td>NaN</td>\n",
              "      <td>NaN</td>\n",
              "      <td>OVS was created on 09/30/19 by Liquid Strategi...</td>\n",
              "      <td>None</td>\n",
              "      <td>NaN</td>\n",
              "      <td>NaN</td>\n",
              "      <td>NaN</td>\n",
              "    </tr>\n",
              "  </tbody>\n",
              "</table>\n",
              "</div>"
            ],
            "text/plain": [
              "  SYMBOL  AVG(VOLUME)  AVG(OPEN)  AVG(CLOSE)  ...   CEO  SECTOR  DCFDIFF  DCF\n",
              "0    OVS  4087.331897  23.750209   23.742574  ...  None     NaN      NaN  NaN\n",
              "\n",
              "[1 rows x 22 columns]"
            ]
          },
          "metadata": {},
          "execution_count": 132
        }
      ]
    },
    {
      "cell_type": "code",
      "metadata": {
        "colab": {
          "base_uri": "https://localhost:8080/"
        },
        "id": "i4CavMr9hBLP",
        "outputId": "ad16e218-8529-405f-ea63-719e77494815"
      },
      "source": [
        "merged_table['SECTOR'].unique()"
      ],
      "execution_count": 133,
      "outputs": [
        {
          "output_type": "execute_result",
          "data": {
            "text/plain": [
              "array([nan, 'Industrials', 'Consumer Cyclical', 'Basic Materials',\n",
              "       'Communication Services', 'Healthcare', 'Financial Services',\n",
              "       'Real Estate', 'Technology', 'Industrial Goods',\n",
              "       'Consumer Defensive', 'Energy', 'Financial', 'Utilities',\n",
              "       'Conglomerates', 'Services', 'Building', 'Pharmaceuticals',\n",
              "       'Media'], dtype=object)"
            ]
          },
          "metadata": {},
          "execution_count": 133
        }
      ]
    },
    {
      "cell_type": "code",
      "metadata": {
        "colab": {
          "base_uri": "https://localhost:8080/"
        },
        "id": "KEnwTuRZvUeS",
        "outputId": "6ce53396-e0bf-45d4-d5b7-b3ede8378f49"
      },
      "source": [
        "merged_table['SECTOR'].isnull().sum()"
      ],
      "execution_count": 134,
      "outputs": [
        {
          "output_type": "execute_result",
          "data": {
            "text/plain": [
              "26001"
            ]
          },
          "metadata": {},
          "execution_count": 134
        }
      ]
    },
    {
      "cell_type": "code",
      "metadata": {
        "id": "IfgIcyQMwu46"
      },
      "source": [
        "merged_table1 = merged_table[merged_table['SECTOR'].notna()]"
      ],
      "execution_count": 135,
      "outputs": []
    },
    {
      "cell_type": "code",
      "metadata": {
        "colab": {
          "base_uri": "https://localhost:8080/",
          "height": 153
        },
        "id": "_hnKcVIl2kSa",
        "outputId": "cb50bc19-3448-4db7-fb86-94e4ad8859c4"
      },
      "source": [
        "merged_table1.head(1)"
      ],
      "execution_count": 136,
      "outputs": [
        {
          "output_type": "execute_result",
          "data": {
            "text/html": [
              "<div>\n",
              "<style scoped>\n",
              "    .dataframe tbody tr th:only-of-type {\n",
              "        vertical-align: middle;\n",
              "    }\n",
              "\n",
              "    .dataframe tbody tr th {\n",
              "        vertical-align: top;\n",
              "    }\n",
              "\n",
              "    .dataframe thead th {\n",
              "        text-align: right;\n",
              "    }\n",
              "</style>\n",
              "<table border=\"1\" class=\"dataframe\">\n",
              "  <thead>\n",
              "    <tr style=\"text-align: right;\">\n",
              "      <th></th>\n",
              "      <th>SYMBOL</th>\n",
              "      <th>AVG(VOLUME)</th>\n",
              "      <th>AVG(OPEN)</th>\n",
              "      <th>AVG(CLOSE)</th>\n",
              "      <th>YEAR(DATE)</th>\n",
              "      <th>ID</th>\n",
              "      <th>PRICE</th>\n",
              "      <th>BETA</th>\n",
              "      <th>VOLAVG</th>\n",
              "      <th>MKTCAP</th>\n",
              "      <th>LASTDIV</th>\n",
              "      <th>RANGE</th>\n",
              "      <th>CHANGES</th>\n",
              "      <th>COMPANYNAME</th>\n",
              "      <th>EXCHANGE</th>\n",
              "      <th>INDUSTRY</th>\n",
              "      <th>WEBSITE</th>\n",
              "      <th>DESCRIPTION</th>\n",
              "      <th>CEO</th>\n",
              "      <th>SECTOR</th>\n",
              "      <th>DCFDIFF</th>\n",
              "      <th>DCF</th>\n",
              "    </tr>\n",
              "  </thead>\n",
              "  <tbody>\n",
              "    <tr>\n",
              "      <th>3</th>\n",
              "      <td>ASR</td>\n",
              "      <td>75081.679537</td>\n",
              "      <td>130.467046</td>\n",
              "      <td>130.389614</td>\n",
              "      <td>2020</td>\n",
              "      <td>3727</td>\n",
              "      <td>114.98</td>\n",
              "      <td>0.205012</td>\n",
              "      <td>68107.0</td>\n",
              "      <td>3.357094e+09</td>\n",
              "      <td>8.64972</td>\n",
              "      <td>82.08-210.38</td>\n",
              "      <td>2.66</td>\n",
              "      <td>Grupo Aeroportuario del Sureste S.A. de C.V.</td>\n",
              "      <td>New York Stock Exchange</td>\n",
              "      <td>Airports &amp; Air Services</td>\n",
              "      <td>http://www.asur.com.mx</td>\n",
              "      <td>NaN</td>\n",
              "      <td>Mr. Adolfo Castro Rivas</td>\n",
              "      <td>Industrials</td>\n",
              "      <td>NaN</td>\n",
              "      <td>0.0</td>\n",
              "    </tr>\n",
              "  </tbody>\n",
              "</table>\n",
              "</div>"
            ],
            "text/plain": [
              "  SYMBOL   AVG(VOLUME)   AVG(OPEN)  ...       SECTOR  DCFDIFF  DCF\n",
              "3    ASR  75081.679537  130.467046  ...  Industrials      NaN  0.0\n",
              "\n",
              "[1 rows x 22 columns]"
            ]
          },
          "metadata": {},
          "execution_count": 136
        }
      ]
    },
    {
      "cell_type": "code",
      "metadata": {
        "id": "j01WGtHw2UP1"
      },
      "source": [
        "COLUMNS = ['AVG(OPEN)','YEAR(DATE)','SECTOR']\n",
        "average_price = merged_table1[COLUMNS]\n",
        "AVE_OPEN_Price = pd.pivot_table(average_price, index=[\"YEAR(DATE)\"], columns=[\"SECTOR\"], values=[\"AVG(OPEN)\"], aggfunc=np.mean)"
      ],
      "execution_count": 150,
      "outputs": []
    },
    {
      "cell_type": "code",
      "metadata": {
        "id": "1B7gpkUp4XKF"
      },
      "source": [
        "columns = ['AVG(VOLUME)','YEAR(DATE)','SECTOR']\n",
        "year_volume = merged_table1[columns]\n",
        "Total_year_Volume =  pd.pivot_table(year_volume, index=[\"YEAR(DATE)\"], columns=[\"SECTOR\"], values=[\"AVG(VOLUME)\"], aggfunc=np.sum)"
      ],
      "execution_count": 154,
      "outputs": []
    },
    {
      "cell_type": "code",
      "metadata": {
        "colab": {
          "base_uri": "https://localhost:8080/",
          "height": 212
        },
        "id": "bA812Umg5aLo",
        "outputId": "0f2de83f-cf31-446e-d288-5d16e45790a5"
      },
      "source": [
        "Total_year_Volume.head(2)"
      ],
      "execution_count": 156,
      "outputs": [
        {
          "output_type": "execute_result",
          "data": {
            "text/html": [
              "<div>\n",
              "<style scoped>\n",
              "    .dataframe tbody tr th:only-of-type {\n",
              "        vertical-align: middle;\n",
              "    }\n",
              "\n",
              "    .dataframe tbody tr th {\n",
              "        vertical-align: top;\n",
              "    }\n",
              "\n",
              "    .dataframe thead tr th {\n",
              "        text-align: left;\n",
              "    }\n",
              "\n",
              "    .dataframe thead tr:last-of-type th {\n",
              "        text-align: right;\n",
              "    }\n",
              "</style>\n",
              "<table border=\"1\" class=\"dataframe\">\n",
              "  <thead>\n",
              "    <tr>\n",
              "      <th></th>\n",
              "      <th colspan=\"18\" halign=\"left\">AVG(VOLUME)</th>\n",
              "    </tr>\n",
              "    <tr>\n",
              "      <th>SECTOR</th>\n",
              "      <th>Basic Materials</th>\n",
              "      <th>Building</th>\n",
              "      <th>Communication Services</th>\n",
              "      <th>Conglomerates</th>\n",
              "      <th>Consumer Cyclical</th>\n",
              "      <th>Consumer Defensive</th>\n",
              "      <th>Energy</th>\n",
              "      <th>Financial</th>\n",
              "      <th>Financial Services</th>\n",
              "      <th>Healthcare</th>\n",
              "      <th>Industrial Goods</th>\n",
              "      <th>Industrials</th>\n",
              "      <th>Media</th>\n",
              "      <th>Pharmaceuticals</th>\n",
              "      <th>Real Estate</th>\n",
              "      <th>Services</th>\n",
              "      <th>Technology</th>\n",
              "      <th>Utilities</th>\n",
              "    </tr>\n",
              "    <tr>\n",
              "      <th>YEAR(DATE)</th>\n",
              "      <th></th>\n",
              "      <th></th>\n",
              "      <th></th>\n",
              "      <th></th>\n",
              "      <th></th>\n",
              "      <th></th>\n",
              "      <th></th>\n",
              "      <th></th>\n",
              "      <th></th>\n",
              "      <th></th>\n",
              "      <th></th>\n",
              "      <th></th>\n",
              "      <th></th>\n",
              "      <th></th>\n",
              "      <th></th>\n",
              "      <th></th>\n",
              "      <th></th>\n",
              "      <th></th>\n",
              "    </tr>\n",
              "  </thead>\n",
              "  <tbody>\n",
              "    <tr>\n",
              "      <th>1970</th>\n",
              "      <td>160428.395062</td>\n",
              "      <td>NaN</td>\n",
              "      <td>NaN</td>\n",
              "      <td>NaN</td>\n",
              "      <td>5.216037e+06</td>\n",
              "      <td>5.993165e+06</td>\n",
              "      <td>2.619359e+06</td>\n",
              "      <td>NaN</td>\n",
              "      <td>NaN</td>\n",
              "      <td>1.968533e+06</td>\n",
              "      <td>NaN</td>\n",
              "      <td>6.200168e+06</td>\n",
              "      <td>NaN</td>\n",
              "      <td>NaN</td>\n",
              "      <td>NaN</td>\n",
              "      <td>NaN</td>\n",
              "      <td>3.862302e+06</td>\n",
              "      <td>177056.790123</td>\n",
              "    </tr>\n",
              "    <tr>\n",
              "      <th>1971</th>\n",
              "      <td>193510.671937</td>\n",
              "      <td>NaN</td>\n",
              "      <td>NaN</td>\n",
              "      <td>NaN</td>\n",
              "      <td>4.946362e+06</td>\n",
              "      <td>4.429293e+06</td>\n",
              "      <td>2.526919e+06</td>\n",
              "      <td>NaN</td>\n",
              "      <td>NaN</td>\n",
              "      <td>1.830232e+06</td>\n",
              "      <td>NaN</td>\n",
              "      <td>7.143225e+06</td>\n",
              "      <td>NaN</td>\n",
              "      <td>NaN</td>\n",
              "      <td>NaN</td>\n",
              "      <td>NaN</td>\n",
              "      <td>3.196818e+06</td>\n",
              "      <td>183862.845850</td>\n",
              "    </tr>\n",
              "  </tbody>\n",
              "</table>\n",
              "</div>"
            ],
            "text/plain": [
              "               AVG(VOLUME)           ...                             \n",
              "SECTOR     Basic Materials Building  ...    Technology      Utilities\n",
              "YEAR(DATE)                           ...                             \n",
              "1970         160428.395062      NaN  ...  3.862302e+06  177056.790123\n",
              "1971         193510.671937      NaN  ...  3.196818e+06  183862.845850\n",
              "\n",
              "[2 rows x 18 columns]"
            ]
          },
          "metadata": {},
          "execution_count": 156
        }
      ]
    },
    {
      "cell_type": "code",
      "metadata": {
        "id": "e9C53Jdn6KIE"
      },
      "source": [
        ""
      ],
      "execution_count": null,
      "outputs": []
    }
  ]
}