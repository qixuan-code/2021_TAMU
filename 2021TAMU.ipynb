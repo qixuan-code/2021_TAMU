{
  "nbformat": 4,
  "nbformat_minor": 0,
  "metadata": {
    "colab": {
      "name": "2021TAMU.ipynb",
      "provenance": [],
      "collapsed_sections": [],
      "authorship_tag": "ABX9TyOUFFgzIvx4/CMdoOY7WRMs",
      "include_colab_link": true
    },
    "kernelspec": {
      "name": "python3",
      "display_name": "Python 3"
    },
    "language_info": {
      "name": "python"
    }
  },
  "cells": [
    {
      "cell_type": "markdown",
      "metadata": {
        "id": "view-in-github",
        "colab_type": "text"
      },
      "source": [
        "<a href=\"https://colab.research.google.com/github/qixuan-code/2021_TAMU/blob/main/2021TAMU.ipynb\" target=\"_parent\"><img src=\"https://colab.research.google.com/assets/colab-badge.svg\" alt=\"Open In Colab\"/></a>"
      ]
    },
    {
      "cell_type": "code",
      "metadata": {
        "id": "R6FmsxNaUC1u"
      },
      "source": [
        "import pandas as pd\n",
        "import os\n",
        "import matplotlib.pyplot as plt\n",
        "import seaborn as sns\n",
        "import numpy as np\n",
        "%matplotlib inline\n",
        "import warnings\n",
        "from collections import Counter\n",
        "warnings.filterwarnings('ignore')\n",
        "from sklearn import metrics"
      ],
      "execution_count": 3,
      "outputs": []
    },
    {
      "cell_type": "code",
      "metadata": {
        "id": "eT6jWL9OecFi"
      },
      "source": [
        "url = 'https://raw.githubusercontent.com/qixuan-code/2021_TAMU/main/VOLUME_HISTORY_byyear%26symbol.csv'\n",
        "volume_history = pd.read_csv(url,na_values='na')"
      ],
      "execution_count": 4,
      "outputs": []
    },
    {
      "cell_type": "code",
      "metadata": {
        "id": "l8KWNOUHer5J"
      },
      "source": [
        "url2 = 'https://raw.githubusercontent.com/qixuan-code/2021_TAMU/main/COMPANY_PROFILE.csv'\n",
        "company_profile = pd.read_csv(url2,na_values='na')"
      ],
      "execution_count": 6,
      "outputs": []
    },
    {
      "cell_type": "code",
      "metadata": {
        "colab": {
          "base_uri": "https://localhost:8080/"
        },
        "id": "YPo5BOdCe7Q2",
        "outputId": "20f03245-690e-4724-cea6-f926ccc691eb"
      },
      "source": [
        "volume_history['SYMBOL']"
      ],
      "execution_count": 12,
      "outputs": [
        {
          "output_type": "execute_result",
          "data": {
            "text/plain": [
              "0         GOE.PA\n",
              "1            VLT\n",
              "2            VLT\n",
              "3            VLT\n",
              "4            SJM\n",
              "           ...  \n",
              "165715       PED\n",
              "165716    UWE.TO\n",
              "165717       LHX\n",
              "165718      CXDC\n",
              "165719      EFOI\n",
              "Name: SYMBOL, Length: 165720, dtype: object"
            ]
          },
          "metadata": {},
          "execution_count": 12
        }
      ]
    },
    {
      "cell_type": "code",
      "metadata": {
        "colab": {
          "base_uri": "https://localhost:8080/"
        },
        "id": "EkQg1Z2sfUAQ",
        "outputId": "11fc62a7-9bf8-493e-c5bb-1d0b09d4e30e"
      },
      "source": [
        "company_profile.columns"
      ],
      "execution_count": 14,
      "outputs": [
        {
          "output_type": "execute_result",
          "data": {
            "text/plain": [
              "Index(['ID', 'SYMBOL', 'PRICE', 'BETA', 'VOLAVG', 'MKTCAP', 'LASTDIV', 'RANGE',\n",
              "       'CHANGES', 'COMPANYNAME', 'EXCHANGE', 'INDUSTRY', 'WEBSITE',\n",
              "       'DESCRIPTION', 'CEO', 'SECTOR', 'DCFDIFF', 'DCF'],\n",
              "      dtype='object')"
            ]
          },
          "metadata": {},
          "execution_count": 14
        }
      ]
    },
    {
      "cell_type": "code",
      "metadata": {
        "colab": {
          "base_uri": "https://localhost:8080/"
        },
        "id": "VG0caMGxfbtX",
        "outputId": "2785b6eb-2365-410e-b34f-ba9bd9296b8c"
      },
      "source": [
        "company_profile['SECTOR']"
      ],
      "execution_count": 15,
      "outputs": [
        {
          "output_type": "execute_result",
          "data": {
            "text/plain": [
              "0                    Energy\n",
              "1               Industrials\n",
              "2                    Energy\n",
              "3                Technology\n",
              "4        Financial Services\n",
              "                ...        \n",
              "10908                   NaN\n",
              "10909    Financial Services\n",
              "10910    Financial Services\n",
              "10911    Financial Services\n",
              "10912            Technology\n",
              "Name: SECTOR, Length: 10913, dtype: object"
            ]
          },
          "metadata": {},
          "execution_count": 15
        }
      ]
    },
    {
      "cell_type": "code",
      "metadata": {
        "colab": {
          "base_uri": "https://localhost:8080/"
        },
        "id": "trf8th9mfzax",
        "outputId": "0112a03b-103e-45eb-e495-75d387ba8c09"
      },
      "source": [
        "company_profile['SYMBOL']"
      ],
      "execution_count": 16,
      "outputs": [
        {
          "output_type": "execute_result",
          "data": {
            "text/plain": [
              "0         GDP\n",
              "1        RFIL\n",
              "2        NCSM\n",
              "3        PRFT\n",
              "4         PFS\n",
              "         ... \n",
              "10908     TBF\n",
              "10909    THFF\n",
              "10910     YIN\n",
              "10911     FGB\n",
              "10912    SNOW\n",
              "Name: SYMBOL, Length: 10913, dtype: object"
            ]
          },
          "metadata": {},
          "execution_count": 16
        }
      ]
    },
    {
      "cell_type": "code",
      "metadata": {
        "id": "qJTickK-f22b"
      },
      "source": [
        "merged_table = pd.merge(volume_history,company_profile , on='SYMBOL')"
      ],
      "execution_count": 18,
      "outputs": []
    },
    {
      "cell_type": "code",
      "metadata": {
        "id": "ni6cGb8Shxwg"
      },
      "source": [
        ""
      ],
      "execution_count": null,
      "outputs": []
    }
  ]
}